{
 "cells": [
  {
   "cell_type": "markdown",
   "metadata": {},
   "source": [
    "## Simulate data"
   ]
  },
  {
   "cell_type": "code",
   "execution_count": 1,
   "metadata": {},
   "outputs": [],
   "source": [
    "# Imports and Function definitions\n",
    "import numpy as np\n",
    "import json\n",
    "\n",
    "def simulate_dictionary(name='Name', N=365):\n",
    "    dct = { 'name': name }\n",
    "    \n",
    "    users_sort = sorted([int(np.random.randint(5,15)) for i in range(N+1)], reverse=np.random.randint(2))\n",
    "    dct['users'] = [[i, users_sort[i]] for i in range(1,N+1)]\n",
    "    \n",
    "    visits_sort = sorted([int(np.random.randint(150)) for i in range(N+1)], reverse=np.random.randint(2))\n",
    "    dct['pageviews'] = [[i, visits_sort[i]] for i in range(1,N+1)]\n",
    "    \n",
    "    #dct['avg_visit_time'] = [[i, round(np.random.gamma(2, 15), 2)] for i in range(1,N+1)]\n",
    "    avg_visit_time_sort = sorted([int(np.random.randint(3, 60)) for i in range(N+1)], reverse=np.random.randint(2))\n",
    "    dct['avg_visit_time'] = [[i, avg_visit_time_sort[i]] for i in range(1,N+1)]\n",
    "    \n",
    "    return dct"
   ]
  },
  {
   "cell_type": "code",
   "execution_count": 2,
   "metadata": {},
   "outputs": [],
   "source": [
    "# Create data\n",
    "customer_list = ['LIF', 'Dansk Erhverv', 'Demo', 'Master', 'Finansforbundet']\n",
    "\n",
    "data = [simulate_dictionary(cust) for cust in customer_list]"
   ]
  },
  {
   "cell_type": "code",
   "execution_count": 23,
   "metadata": {},
   "outputs": [],
   "source": [
    "# Save data\n",
    "with open('activity.json', 'w') as f:\n",
    "    json.dump(data, f)"
   ]
  },
  {
   "cell_type": "code",
   "execution_count": null,
   "metadata": {},
   "outputs": [],
   "source": []
  },
  {
   "cell_type": "markdown",
   "metadata": {},
   "source": [
    "## Preprocess Google Analytics data"
   ]
  },
  {
   "cell_type": "code",
   "execution_count": 144,
   "metadata": {},
   "outputs": [],
   "source": [
    "# Imports and Function definitions\n",
    "import numpy as np\n",
    "import pandas as pd\n",
    "import json\n",
    "\n",
    "def create_dictionary(name, df):\n",
    "    dct = { 'name': name }\n",
    "    \n",
    "    dct['pageviews'] = df[['day','Pageviews']].values.tolist()\n",
    "    \n",
    "    dct['avg_visit_time'] = df[['day','avg_visit_time']].values.astype(int).tolist() #df[['day','avg_visit_time']].values.tolist()\n",
    "    \n",
    "    return dct"
   ]
  },
  {
   "cell_type": "code",
   "execution_count": 145,
   "metadata": {},
   "outputs": [],
   "source": [
    "# Load data\n",
    "df = pd.read_csv('google_analytics_data.csv')\n",
    "df = df.iloc[:-1]"
   ]
  },
  {
   "cell_type": "code",
   "execution_count": 146,
   "metadata": {},
   "outputs": [],
   "source": [
    "# Format date\n",
    "df['day'] = pd.DatetimeIndex(df['Day Index']).day\n",
    "\n",
    "# Format session time\n",
    "time = pd.DatetimeIndex(df['Avg. Session Duration'])\n",
    "df['avg_visit_time'] = time.hour * 60 + time.minute + time.second / 60\n",
    "df = df.round(2)"
   ]
  },
  {
   "cell_type": "code",
   "execution_count": 147,
   "metadata": {},
   "outputs": [],
   "source": [
    "# Create dictionary data\n",
    "data = [create_dictionary('master', df)]"
   ]
  },
  {
   "cell_type": "code",
   "execution_count": 148,
   "metadata": {},
   "outputs": [],
   "source": [
    "# Save data\n",
    "with open('activity.json', 'w') as f:\n",
    "    json.dump(data, f)"
   ]
  },
  {
   "cell_type": "markdown",
   "metadata": {},
   "source": [
    "## Meta data"
   ]
  },
  {
   "cell_type": "code",
   "execution_count": 143,
   "metadata": {},
   "outputs": [
    {
     "data": {
      "text/plain": [
       "[{'axis': [0.0, 159.0, 0.0, 60.12]}]"
      ]
     },
     "execution_count": 143,
     "metadata": {},
     "output_type": "execute_result"
    }
   ],
   "source": [
    "# Create supporting meta data\n",
    "meta_data = [{\n",
    "    'axis': [float(df['Pageviews'].min()), float(df['Pageviews'].max()),\n",
    "             float(df['avg_visit_time'].min()), float(df['avg_visit_time'].max())]\n",
    "}]\n",
    "\n",
    "meta_data"
   ]
  },
  {
   "cell_type": "code",
   "execution_count": 75,
   "metadata": {},
   "outputs": [],
   "source": [
    "# Save data\n",
    "#with open('meta.json', 'w') as f:\n",
    "#    json.dump(meta_data, f)"
   ]
  },
  {
   "cell_type": "code",
   "execution_count": null,
   "metadata": {},
   "outputs": [],
   "source": []
  },
  {
   "cell_type": "markdown",
   "metadata": {},
   "source": [
    "# Simulate data for version 2"
   ]
  },
  {
   "cell_type": "code",
   "execution_count": 33,
   "metadata": {},
   "outputs": [],
   "source": [
    "# Imports and Function definitions\n",
    "import numpy as np\n",
    "import json\n",
    "\n",
    "def simulate_dictionary(name='Name', N=365):\n",
    "    dct = { 'name': name }\n",
    "    \n",
    "    dct['users'] = int(np.random.randint(5,15))\n",
    "    \n",
    "    dct['pageviews'] = int(np.random.randint(150))\n",
    "    \n",
    "    dct['avg_visit_time'] = int(np.random.randint(3, 60))\n",
    "    \n",
    "    return dct"
   ]
  },
  {
   "cell_type": "code",
   "execution_count": 34,
   "metadata": {},
   "outputs": [],
   "source": [
    "# Create data\n",
    "customer_list = ['LIF', 'Dansk Erhverv', 'Demo', 'Master', 'Finansforbundet']\n",
    "\n",
    "data = [simulate_dictionary(cust) for cust in customer_list]"
   ]
  },
  {
   "cell_type": "code",
   "execution_count": 35,
   "metadata": {},
   "outputs": [
    {
     "data": {
      "text/plain": [
       "[{'name': 'LIF', 'users': 8, 'pageviews': 66, 'avg_visit_time': 17},\n",
       " {'name': 'Dansk Erhverv', 'users': 14, 'pageviews': 47, 'avg_visit_time': 44},\n",
       " {'name': 'Demo', 'users': 13, 'pageviews': 37, 'avg_visit_time': 15},\n",
       " {'name': 'Master', 'users': 12, 'pageviews': 98, 'avg_visit_time': 23},\n",
       " {'name': 'Finansforbundet',\n",
       "  'users': 7,\n",
       "  'pageviews': 146,\n",
       "  'avg_visit_time': 53}]"
      ]
     },
     "execution_count": 35,
     "metadata": {},
     "output_type": "execute_result"
    }
   ],
   "source": [
    "data"
   ]
  },
  {
   "cell_type": "code",
   "execution_count": 36,
   "metadata": {},
   "outputs": [],
   "source": [
    "# Save data\n",
    "with open('activity 1 year.json', 'w') as f:\n",
    "    json.dump(data, f)"
   ]
  },
  {
   "cell_type": "code",
   "execution_count": null,
   "metadata": {},
   "outputs": [],
   "source": []
  }
 ],
 "metadata": {
  "kernelspec": {
   "display_name": "Python 3",
   "language": "python",
   "name": "python3"
  },
  "language_info": {
   "codemirror_mode": {
    "name": "ipython",
    "version": 3
   },
   "file_extension": ".py",
   "mimetype": "text/x-python",
   "name": "python",
   "nbconvert_exporter": "python",
   "pygments_lexer": "ipython3",
   "version": "3.6.5"
  }
 },
 "nbformat": 4,
 "nbformat_minor": 2
}
